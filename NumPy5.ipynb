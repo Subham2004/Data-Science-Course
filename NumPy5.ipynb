{
 "cells": [
  {
   "cell_type": "markdown",
   "id": "19986a35",
   "metadata": {},
   "source": [
    "# NumPy ufuncs"
   ]
  },
  {
   "cell_type": "code",
   "execution_count": 1,
   "id": "83d8f3b2",
   "metadata": {},
   "outputs": [
    {
     "name": "stdout",
     "output_type": "stream",
     "text": [
      "[ 5  7  9 11]\n"
     ]
    }
   ],
   "source": [
    "import numpy as np\n",
    "\n",
    "x = [1, 2, 3, 4]\n",
    "y = [4, 5, 6, 7]\n",
    "z = np.add(x, y)\n",
    "\n",
    "print(z)"
   ]
  },
  {
   "cell_type": "code",
   "execution_count": 2,
   "id": "fa21acfd",
   "metadata": {},
   "outputs": [
    {
     "name": "stdout",
     "output_type": "stream",
     "text": [
      "[6 8 10 12]\n"
     ]
    }
   ],
   "source": [
    "import numpy as np\n",
    "\n",
    "def myadd(x, y):\n",
    "  return x+y\n",
    "\n",
    "myadd = np.frompyfunc(myadd, 2, 1)\n",
    "\n",
    "print(myadd([1, 2, 3, 4], [5, 6, 7, 8]))"
   ]
  },
  {
   "cell_type": "code",
   "execution_count": 3,
   "id": "0ad37e5f",
   "metadata": {},
   "outputs": [
    {
     "name": "stdout",
     "output_type": "stream",
     "text": [
      "<class 'numpy.ufunc'>\n"
     ]
    }
   ],
   "source": [
    "import numpy as np\n",
    "\n",
    "print(type(np.add))"
   ]
  },
  {
   "cell_type": "code",
   "execution_count": 4,
   "id": "6df29404",
   "metadata": {},
   "outputs": [
    {
     "name": "stdout",
     "output_type": "stream",
     "text": [
      "<class 'function'>\n"
     ]
    }
   ],
   "source": [
    "import numpy as np\n",
    "\n",
    "print(type(np.concatenate))"
   ]
  },
  {
   "cell_type": "code",
   "execution_count": 5,
   "id": "39b982a1",
   "metadata": {},
   "outputs": [
    {
     "name": "stdout",
     "output_type": "stream",
     "text": [
      "add is ufunc\n"
     ]
    }
   ],
   "source": [
    "import numpy as np\n",
    "\n",
    "if type(np.add) == np.ufunc:\n",
    "  print('add is ufunc')\n",
    "else:\n",
    "  print('add is not ufunc')"
   ]
  },
  {
   "cell_type": "markdown",
   "id": "25084b82",
   "metadata": {},
   "source": [
    "# Simple Arithmetics"
   ]
  },
  {
   "cell_type": "markdown",
   "id": "794a6f3f",
   "metadata": {},
   "source": [
    "Addition"
   ]
  },
  {
   "cell_type": "code",
   "execution_count": 6,
   "id": "cfef7a60",
   "metadata": {},
   "outputs": [
    {
     "name": "stdout",
     "output_type": "stream",
     "text": [
      "[30 32 34 36 38 40]\n"
     ]
    }
   ],
   "source": [
    "import numpy as np\n",
    "\n",
    "arr1 = np.array([10, 11, 12, 13, 14, 15])\n",
    "arr2 = np.array([20, 21, 22, 23, 24, 25])\n",
    "\n",
    "newarr = np.add(arr1, arr2)\n",
    "\n",
    "print(newarr)"
   ]
  },
  {
   "cell_type": "markdown",
   "id": "294aca42",
   "metadata": {},
   "source": [
    "Subtraction"
   ]
  },
  {
   "cell_type": "code",
   "execution_count": 13,
   "id": "12059c85",
   "metadata": {},
   "outputs": [
    {
     "name": "stdout",
     "output_type": "stream",
     "text": [
      "[-10  -1   8  17  26  35]\n"
     ]
    }
   ],
   "source": [
    "import numpy as np\n",
    "\n",
    "arr1 = np.array([10, 20, 30, 40, 50, 60])\n",
    "arr2 = np.array([20, 21, 22, 23, 24, 25])\n",
    "\n",
    "newarr = np.subtract(arr1, arr2)\n",
    "\n",
    "print(newarr)"
   ]
  },
  {
   "cell_type": "markdown",
   "id": "9812951a",
   "metadata": {},
   "source": [
    "Multiplication & Division"
   ]
  },
  {
   "cell_type": "code",
   "execution_count": 14,
   "id": "549f674a",
   "metadata": {},
   "outputs": [
    {
     "name": "stdout",
     "output_type": "stream",
     "text": [
      "Multiplication:  [ 200  420  660  920 1200 1500]\n",
      "Division:  [ 3.33333333  4.          3.          5.         25.          1.81818182]\n"
     ]
    }
   ],
   "source": [
    "import numpy as np\n",
    "\n",
    "arr1 = np.array([10, 20, 30, 40, 50, 60])\n",
    "arr2 = np.array([20, 21, 22, 23, 24, 25])\n",
    "\n",
    "newarr = np.multiply(arr1, arr2)\n",
    "arr3 = np.array([10, 20, 30, 40, 50, 60])\n",
    "arr4 = np.array([3, 5, 10, 8, 2, 33])\n",
    "\n",
    "newarr1 = np.divide(arr3, arr4)\n",
    "\n",
    "print(\"Multiplication: \", newarr)\n",
    "\n",
    "print(\"Division: \", newarr1)\n"
   ]
  },
  {
   "cell_type": "markdown",
   "id": "922e6c34",
   "metadata": {},
   "source": [
    "Remainde, Quotient & mod"
   ]
  },
  {
   "cell_type": "code",
   "execution_count": 3,
   "id": "374ac047",
   "metadata": {},
   "outputs": [
    {
     "name": "stdout",
     "output_type": "stream",
     "text": [
      "Remainder:  [ 1  6  3  0  0 27]\n",
      "Quotient & Mod:  (array([ 3,  2,  3,  5, 25,  1]), array([ 1,  6,  3,  0,  0, 27]))\n"
     ]
    }
   ],
   "source": [
    "import numpy as np\n",
    "\n",
    "arr1 = np.array([10, 20, 30, 40, 50, 60])\n",
    "arr2 = np.array([3, 7, 9, 8, 2, 33])\n",
    "\n",
    "newarr1 = np.remainder(arr1, arr2)\n",
    "\n",
    "newarr2 = np.divmod(arr1, arr2)\n",
    "\n",
    "print(\"Remainder: \", newarr1)\n",
    "\n",
    "print(\"Quotient & Mod: \", newarr2)"
   ]
  },
  {
   "cell_type": "markdown",
   "id": "a865cb2c",
   "metadata": {},
   "source": [
    "Absolute Values"
   ]
  },
  {
   "cell_type": "code",
   "execution_count": 4,
   "id": "9e42c00a",
   "metadata": {},
   "outputs": [
    {
     "name": "stdout",
     "output_type": "stream",
     "text": [
      "[1 2 1 2 3 4]\n"
     ]
    }
   ],
   "source": [
    "import numpy as np\n",
    "\n",
    "arr = np.array([-1, -2, 1, 2, 3, -4])\n",
    "\n",
    "newarr = np.absolute(arr)\n",
    "\n",
    "print(newarr)"
   ]
  },
  {
   "cell_type": "markdown",
   "id": "b5086c2f",
   "metadata": {},
   "source": [
    "# Rounding Decimals"
   ]
  },
  {
   "cell_type": "code",
   "execution_count": 5,
   "id": "82bb0f05",
   "metadata": {},
   "outputs": [
    {
     "name": "stdout",
     "output_type": "stream",
     "text": [
      "Truncation:  [-3.  3.]\n",
      "Rounding:  3.17\n",
      "Floor Value:  [-4.  3.]\n",
      "Ceil Value:  [-3.  4.]\n"
     ]
    }
   ],
   "source": [
    "import numpy as np\n",
    "\n",
    "arr = np.trunc([-3.1666, 3.6667])\n",
    "print(\"Truncation: \", arr)\n",
    "\n",
    "arr1 = np.around(3.1666, 2)\n",
    "print(\"Rounding: \", arr1)\n",
    "\n",
    "arr2 = np.floor([-3.1666, 3.6667])\n",
    "print(\"Floor Value: \", arr2)\n",
    "\n",
    "arr3 = np.ceil([-3.1666, 3.6667])\n",
    "print(\"Ceil Value: \", arr3)"
   ]
  },
  {
   "cell_type": "markdown",
   "id": "29a64740",
   "metadata": {},
   "source": [
    "# Numpy Logs"
   ]
  },
  {
   "cell_type": "markdown",
   "id": "3b2205e1",
   "metadata": {},
   "source": [
    "Log at base 2"
   ]
  },
  {
   "cell_type": "code",
   "execution_count": 6,
   "id": "b1748ab8",
   "metadata": {},
   "outputs": [
    {
     "name": "stdout",
     "output_type": "stream",
     "text": [
      "[0.         1.         1.5849625  2.         2.32192809 2.5849625\n",
      " 2.80735492 3.         3.169925  ]\n"
     ]
    }
   ],
   "source": [
    "import numpy as np\n",
    "\n",
    "arr = np.arange(1, 10)\n",
    "\n",
    "print(np.log2(arr))"
   ]
  },
  {
   "cell_type": "markdown",
   "id": "de5783d8",
   "metadata": {},
   "source": [
    "Log at Base 10"
   ]
  },
  {
   "cell_type": "code",
   "execution_count": 7,
   "id": "826914ae",
   "metadata": {},
   "outputs": [
    {
     "name": "stdout",
     "output_type": "stream",
     "text": [
      "[0.         0.30103    0.47712125 0.60205999 0.69897    0.77815125\n",
      " 0.84509804 0.90308999 0.95424251]\n"
     ]
    }
   ],
   "source": [
    "import numpy as np\n",
    "\n",
    "arr = np.arange(1, 10)\n",
    "\n",
    "print(np.log10(arr))"
   ]
  },
  {
   "cell_type": "markdown",
   "id": "625faead",
   "metadata": {},
   "source": [
    "Natural Log, or Log at Base e"
   ]
  },
  {
   "cell_type": "code",
   "execution_count": 8,
   "id": "4c82aa12",
   "metadata": {},
   "outputs": [
    {
     "name": "stdout",
     "output_type": "stream",
     "text": [
      "[0.         0.69314718 1.09861229 1.38629436 1.60943791 1.79175947\n",
      " 1.94591015 2.07944154 2.19722458]\n"
     ]
    }
   ],
   "source": [
    "import numpy as np\n",
    "\n",
    "arr = np.arange(1, 10)\n",
    "\n",
    "print(np.log(arr))"
   ]
  },
  {
   "cell_type": "markdown",
   "id": "d576186e",
   "metadata": {},
   "source": [
    "Log at Any Base"
   ]
  },
  {
   "cell_type": "code",
   "execution_count": 9,
   "id": "be81e888",
   "metadata": {},
   "outputs": [
    {
     "name": "stdout",
     "output_type": "stream",
     "text": [
      "1.7005483074552052\n"
     ]
    }
   ],
   "source": [
    "from math import log\n",
    "import numpy as np\n",
    "\n",
    "nplog = np.frompyfunc(log, 2, 1)\n",
    "\n",
    "print(nplog(100, 15))"
   ]
  },
  {
   "cell_type": "markdown",
   "id": "6f2acfc0",
   "metadata": {},
   "source": [
    "# NumPy Summations"
   ]
  },
  {
   "cell_type": "markdown",
   "id": "540ef2e8",
   "metadata": {},
   "source": [
    "Summations(Add the values in arr1 to the values in arr2)"
   ]
  },
  {
   "cell_type": "code",
   "execution_count": 10,
   "id": "b9ef5178",
   "metadata": {},
   "outputs": [
    {
     "name": "stdout",
     "output_type": "stream",
     "text": [
      "[2 4 6]\n"
     ]
    }
   ],
   "source": [
    "import numpy as np\n",
    "\n",
    "arr1 = np.array([1, 2, 3])\n",
    "arr2 = np.array([1, 2, 3])\n",
    "\n",
    "newarr = np.add(arr1, arr2)\n",
    "\n",
    "print(newarr)"
   ]
  },
  {
   "cell_type": "markdown",
   "id": "63d7fd13",
   "metadata": {},
   "source": [
    "Summations(Sum the values in arr1 and the values in arr2)"
   ]
  },
  {
   "cell_type": "code",
   "execution_count": 12,
   "id": "2a52aaf8",
   "metadata": {},
   "outputs": [
    {
     "name": "stdout",
     "output_type": "stream",
     "text": [
      "12\n"
     ]
    }
   ],
   "source": [
    "import numpy as np\n",
    "\n",
    "arr1 = np.array([1, 2, 3])\n",
    "arr2 = np.array([1, 2, 3])\n",
    "\n",
    "newarr = np.sum([arr1, arr2])\n",
    "\n",
    "print(newarr)"
   ]
  },
  {
   "cell_type": "markdown",
   "id": "d9613458",
   "metadata": {},
   "source": [
    "Summation Over an Axis"
   ]
  },
  {
   "cell_type": "code",
   "execution_count": 13,
   "id": "62ad06ec",
   "metadata": {},
   "outputs": [
    {
     "name": "stdout",
     "output_type": "stream",
     "text": [
      "[6 6]\n"
     ]
    }
   ],
   "source": [
    "import numpy as np\n",
    "\n",
    "arr1 = np.array([1, 2, 3])\n",
    "arr2 = np.array([1, 2, 3])\n",
    "\n",
    "newarr = np.sum([arr1, arr2], axis=1)\n",
    "\n",
    "print(newarr)"
   ]
  },
  {
   "cell_type": "markdown",
   "id": "eee40de7",
   "metadata": {},
   "source": [
    "Cummulative Sum"
   ]
  },
  {
   "cell_type": "code",
   "execution_count": 14,
   "id": "ea77d15c",
   "metadata": {},
   "outputs": [
    {
     "name": "stdout",
     "output_type": "stream",
     "text": [
      "[1 3 6]\n"
     ]
    }
   ],
   "source": [
    "import numpy as np\n",
    "\n",
    "arr = np.array([1, 2, 3])\n",
    "\n",
    "newarr = np.cumsum(arr)\n",
    "\n",
    "print(newarr)"
   ]
  },
  {
   "cell_type": "markdown",
   "id": "fe2d4e5f",
   "metadata": {},
   "source": [
    "# NumPy LCM"
   ]
  },
  {
   "cell_type": "markdown",
   "id": "4d36d2eb",
   "metadata": {},
   "source": [
    "Finding LCM "
   ]
  },
  {
   "cell_type": "code",
   "execution_count": 15,
   "id": "d87f54a4",
   "metadata": {},
   "outputs": [
    {
     "name": "stdout",
     "output_type": "stream",
     "text": [
      "12\n"
     ]
    }
   ],
   "source": [
    "import numpy as np\n",
    "\n",
    "num1 = 4\n",
    "num2 = 6\n",
    "\n",
    "x = np.lcm(num1, num2)\n",
    "\n",
    "print(x)"
   ]
  },
  {
   "cell_type": "markdown",
   "id": "37487056",
   "metadata": {},
   "source": [
    "Finding LCM in Arrays"
   ]
  },
  {
   "cell_type": "code",
   "execution_count": 16,
   "id": "b303c29d",
   "metadata": {},
   "outputs": [
    {
     "name": "stdout",
     "output_type": "stream",
     "text": [
      "18\n"
     ]
    }
   ],
   "source": [
    "import numpy as np\n",
    "\n",
    "arr = np.array([3, 6, 9])\n",
    "\n",
    "x = np.lcm.reduce(arr)\n",
    "\n",
    "print(x)"
   ]
  },
  {
   "cell_type": "markdown",
   "id": "7e7fb168",
   "metadata": {},
   "source": [
    "LCM of all values of an array where the array contains all integers from 1 to 10"
   ]
  },
  {
   "cell_type": "code",
   "execution_count": 17,
   "id": "91f8b728",
   "metadata": {},
   "outputs": [
    {
     "name": "stdout",
     "output_type": "stream",
     "text": [
      "2520\n"
     ]
    }
   ],
   "source": [
    "import numpy as np\n",
    "\n",
    "arr = np.arange(1, 11)\n",
    "\n",
    "x = np.lcm.reduce(arr)\n",
    "\n",
    "print(x)"
   ]
  },
  {
   "cell_type": "markdown",
   "id": "169f2a1d",
   "metadata": {},
   "source": [
    "# NumPy GCD"
   ]
  },
  {
   "cell_type": "markdown",
   "id": "aab6d6c3",
   "metadata": {},
   "source": [
    "Finding GCD"
   ]
  },
  {
   "cell_type": "code",
   "execution_count": 18,
   "id": "80bd4f85",
   "metadata": {},
   "outputs": [
    {
     "name": "stdout",
     "output_type": "stream",
     "text": [
      "3\n"
     ]
    }
   ],
   "source": [
    "import numpy as np\n",
    "\n",
    "num1 = 6\n",
    "num2 = 9\n",
    "\n",
    "x = np.gcd(num1, num2)\n",
    "\n",
    "print(x)"
   ]
  },
  {
   "cell_type": "markdown",
   "id": "e7ed4900",
   "metadata": {},
   "source": [
    "Finding GCD in Arrays"
   ]
  },
  {
   "cell_type": "code",
   "execution_count": 19,
   "id": "82e2a4e2",
   "metadata": {},
   "outputs": [
    {
     "name": "stdout",
     "output_type": "stream",
     "text": [
      "4\n"
     ]
    }
   ],
   "source": [
    "import numpy as np\n",
    "\n",
    "arr = np.array([20, 8, 32, 36, 16])\n",
    "\n",
    "x = np.gcd.reduce(arr)\n",
    "\n",
    "print(x)"
   ]
  },
  {
   "cell_type": "code",
   "execution_count": null,
   "id": "e3665ca7",
   "metadata": {},
   "outputs": [],
   "source": []
  }
 ],
 "metadata": {
  "kernelspec": {
   "display_name": "Python 3 (ipykernel)",
   "language": "python",
   "name": "python3"
  },
  "language_info": {
   "codemirror_mode": {
    "name": "ipython",
    "version": 3
   },
   "file_extension": ".py",
   "mimetype": "text/x-python",
   "name": "python",
   "nbconvert_exporter": "python",
   "pygments_lexer": "ipython3",
   "version": "3.10.9"
  }
 },
 "nbformat": 4,
 "nbformat_minor": 5
}
