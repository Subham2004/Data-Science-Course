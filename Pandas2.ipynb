{
 "cells": [
  {
   "cell_type": "markdown",
   "id": "5aaf0c22",
   "metadata": {},
   "source": [
    "# Pandas Cleaning Data"
   ]
  },
  {
   "cell_type": "markdown",
   "id": "018f8072",
   "metadata": {},
   "source": [
    "Pandas - Cleaning Empty Cells"
   ]
  },
  {
   "cell_type": "code",
   "execution_count": 2,
   "id": "e62aee76",
   "metadata": {},
   "outputs": [
    {
     "name": "stdout",
     "output_type": "stream",
     "text": [
      "     S_ID  S_AGE  S_WEIGHT\n",
      "0    1001     19        96\n",
      "1    1002     20        86\n",
      "2    1003     18        88\n",
      "3    1004     19        65\n",
      "4    1005     17        66\n",
      "5    1006     18        68\n",
      "6    1007     19        90\n",
      "7    1008     19        62\n",
      "8    1009     20        52\n",
      "9    1010     18        56\n",
      "10   1011     19        58\n",
      "11   1012     17        55\n",
      "12   1013     18        52\n",
      "13   1014     19        63\n",
      "14   1015     19        46\n",
      "15   1016     20        45\n",
      "16   1017     18        42\n",
      "17   1018     19        62\n",
      "18   1019     17        82\n",
      "19   1020     18        72\n",
      "20   1021     19        42\n",
      "21   1022     19        62\n",
      "22   1023     20        66\n",
      "23   1024     18        64\n",
      "24   1025     19        52\n",
      "25   1026     17        62\n",
      "26   1027     18        65\n",
      "27   1028     19        82\n",
      "28   1029     19        72\n",
      "29   1030     17        42\n",
      "30   1031     18        62\n",
      "31   1032     19        66\n",
      "32   1033     19        53\n",
      "33   1034     20        52\n",
      "34   1035     18        62\n",
      "35   1036     19        65\n",
      "36   1037     17        56\n",
      "37   1038     18        55\n",
      "38   1039     20        42\n",
      "39   1040     18        96\n",
      "40   1041     19        86\n",
      "41   1042     17        88\n",
      "42   1043     18        65\n",
      "43   1044     19        66\n",
      "44   1045     21        68\n",
      "45   1046     25        90\n",
      "46   1047     22        62\n",
      "47   1048     21        52\n",
      "48   1049     26        56\n",
      "49   1050     19        58\n",
      "50   1051     17        55\n",
      "51   1052     18        52\n",
      "52   1053     19        36\n",
      "53   1054     19        46\n",
      "54   1055     20        45\n",
      "55   1056     18        42\n",
      "56   1057     19        62\n",
      "57   1058     17        82\n",
      "58   1059     18        72\n",
      "59   1060     20        42\n",
      "60   1061     18        62\n",
      "61   1062     19        79\n",
      "62   1063     17        55\n",
      "63   1064     18        52\n",
      "64   1065     19        60\n",
      "65   1066     21        65\n",
      "66   1067     22        46\n",
      "67   1068     23        45\n",
      "68   1069     19        42\n",
      "69   1070     18        62\n",
      "70   1071     20        56\n",
      "71   1072     22        92\n",
      "72   1073     21        82\n",
      "73   1074     23        92\n",
      "74   1075     21        42\n",
      "75   1076     22        72\n",
      "76   1077     19        55\n",
      "77   1078     22        63\n",
      "78   1079     25        63\n",
      "79   1080     19        45\n",
      "80   1081     18        96\n",
      "81   1082     20        86\n",
      "82   1083     22        88\n",
      "83   1084     21        65\n",
      "84   1085     23        66\n",
      "85   1086     21        68\n",
      "86   1087     22        90\n",
      "87   1088     19        62\n",
      "88   1089     22        52\n",
      "89   1090     25        56\n",
      "90   1091     19        58\n",
      "91   1092     19        55\n",
      "92   1093     17        52\n",
      "93   1094     19        36\n",
      "94   1095     18        46\n",
      "95   1096     20        45\n",
      "96   1097     22        42\n",
      "97   1098     21        62\n",
      "98   1099     23        65\n",
      "99   1100     21        32\n",
      "100  1101     22        33\n",
      "101  1102     19        65\n",
      "102  1103     22        66\n",
      "103  1104     25        46\n",
      "104  1105     26        45\n",
      "105  1106     30        42\n",
      "106  1107     19        62\n",
      "107  1108     22        82\n",
      "108  1109     19        72\n",
      "109  1110     17        43\n",
      "110  1111     18        66\n",
      "111  1112     19        63\n",
      "112  1113     19        85\n",
      "113  1114     20        58\n",
      "114  1115     18        62\n",
      "115  1116     19        66\n",
      "116  1117     17        56\n",
      "117  1118     18        54\n",
      "118  1119     20        96\n",
      "119  1120     18        86\n",
      "120  1121     19        88\n",
      "121  1122     17        65\n",
      "122  1123     18        66\n",
      "123  1124     19        68\n",
      "124   118     18        90\n",
      "125  1126     19        62\n",
      "126  1127     17        52\n",
      "127  1128     18        56\n",
      "128  1129     19        58\n",
      "129  1130     14        55\n",
      "130  1131     16        52\n",
      "131  1132     12        63\n",
      "132  1133     19        46\n",
      "133  1134     18        45\n",
      "134  1135     19        42\n",
      "135  1136     17        62\n",
      "136  1137     18        96\n",
      "137  1138     19        86\n",
      "138  1139     18        88\n",
      "139  1140     19        65\n",
      "140  1141     17        66\n",
      "141  1142     18        68\n",
      "142  1143     19        90\n",
      "143  1144     19        62\n",
      "144  1145     20        52\n",
      "145  1146     18        56\n",
      "146  1147     19        58\n",
      "147  1148     17        55\n",
      "148  1149     18        52\n",
      "149  1150     20        36\n"
     ]
    }
   ],
   "source": [
    "import pandas as pd\n",
    "\n",
    "df = pd.read_csv('weight.csv')\n",
    "\n",
    "new_df = df.dropna()\n",
    "\n",
    "print(new_df.to_string())"
   ]
  },
  {
   "cell_type": "code",
   "execution_count": 4,
   "id": "822ab13e",
   "metadata": {},
   "outputs": [
    {
     "name": "stdout",
     "output_type": "stream",
     "text": [
      "     S_ID  S_AGE  S_WEIGHT\n",
      "0    1001     19        96\n",
      "1    1002     20        86\n",
      "2    1003     18        88\n",
      "3    1004     19        65\n",
      "4    1005     17        66\n",
      "5    1006     18        68\n",
      "6    1007     19        90\n",
      "7    1008     19        62\n",
      "8    1009     20        52\n",
      "9    1010     18        56\n",
      "10   1011     19        58\n",
      "11   1012     17        55\n",
      "12   1013     18        52\n",
      "13   1014     19        63\n",
      "14   1015     19        46\n",
      "15   1016     20        45\n",
      "16   1017     18        42\n",
      "17   1018     19        62\n",
      "18   1019     17        82\n",
      "19   1020     18        72\n",
      "20   1021     19        42\n",
      "21   1022     19        62\n",
      "22   1023     20        66\n",
      "23   1024     18        64\n",
      "24   1025     19        52\n",
      "25   1026     17        62\n",
      "26   1027     18        65\n",
      "27   1028     19        82\n",
      "28   1029     19        72\n",
      "29   1030     17        42\n",
      "30   1031     18        62\n",
      "31   1032     19        66\n",
      "32   1033     19        53\n",
      "33   1034     20        52\n",
      "34   1035     18        62\n",
      "35   1036     19        65\n",
      "36   1037     17        56\n",
      "37   1038     18        55\n",
      "38   1039     20        42\n",
      "39   1040     18        96\n",
      "40   1041     19        86\n",
      "41   1042     17        88\n",
      "42   1043     18        65\n",
      "43   1044     19        66\n",
      "44   1045     21        68\n",
      "45   1046     25        90\n",
      "46   1047     22        62\n",
      "47   1048     21        52\n",
      "48   1049     26        56\n",
      "49   1050     19        58\n",
      "50   1051     17        55\n",
      "51   1052     18        52\n",
      "52   1053     19        36\n",
      "53   1054     19        46\n",
      "54   1055     20        45\n",
      "55   1056     18        42\n",
      "56   1057     19        62\n",
      "57   1058     17        82\n",
      "58   1059     18        72\n",
      "59   1060     20        42\n",
      "60   1061     18        62\n",
      "61   1062     19        79\n",
      "62   1063     17        55\n",
      "63   1064     18        52\n",
      "64   1065     19        60\n",
      "65   1066     21        65\n",
      "66   1067     22        46\n",
      "67   1068     23        45\n",
      "68   1069     19        42\n",
      "69   1070     18        62\n",
      "70   1071     20        56\n",
      "71   1072     22        92\n",
      "72   1073     21        82\n",
      "73   1074     23        92\n",
      "74   1075     21        42\n",
      "75   1076     22        72\n",
      "76   1077     19        55\n",
      "77   1078     22        63\n",
      "78   1079     25        63\n",
      "79   1080     19        45\n",
      "80   1081     18        96\n",
      "81   1082     20        86\n",
      "82   1083     22        88\n",
      "83   1084     21        65\n",
      "84   1085     23        66\n",
      "85   1086     21        68\n",
      "86   1087     22        90\n",
      "87   1088     19        62\n",
      "88   1089     22        52\n",
      "89   1090     25        56\n",
      "90   1091     19        58\n",
      "91   1092     19        55\n",
      "92   1093     17        52\n",
      "93   1094     19        36\n",
      "94   1095     18        46\n",
      "95   1096     20        45\n",
      "96   1097     22        42\n",
      "97   1098     21        62\n",
      "98   1099     23        65\n",
      "99   1100     21        32\n",
      "100  1101     22        33\n",
      "101  1102     19        65\n",
      "102  1103     22        66\n",
      "103  1104     25        46\n",
      "104  1105     26        45\n",
      "105  1106     30        42\n",
      "106  1107     19        62\n",
      "107  1108     22        82\n",
      "108  1109     19        72\n",
      "109  1110     17        43\n",
      "110  1111     18        66\n",
      "111  1112     19        63\n",
      "112  1113     19        85\n",
      "113  1114     20        58\n",
      "114  1115     18        62\n",
      "115  1116     19        66\n",
      "116  1117     17        56\n",
      "117  1118     18        54\n",
      "118  1119     20        96\n",
      "119  1120     18        86\n",
      "120  1121     19        88\n",
      "121  1122     17        65\n",
      "122  1123     18        66\n",
      "123  1124     19        68\n",
      "124   118     18        90\n",
      "125  1126     19        62\n",
      "126  1127     17        52\n",
      "127  1128     18        56\n",
      "128  1129     19        58\n",
      "129  1130     14        55\n",
      "130  1131     16        52\n",
      "131  1132     12        63\n",
      "132  1133     19        46\n",
      "133  1134     18        45\n",
      "134  1135     19        42\n",
      "135  1136     17        62\n",
      "136  1137     18        96\n",
      "137  1138     19        86\n",
      "138  1139     18        88\n",
      "139  1140     19        65\n",
      "140  1141     17        66\n",
      "141  1142     18        68\n",
      "142  1143     19        90\n",
      "143  1144     19        62\n",
      "144  1145     20        52\n",
      "145  1146     18        56\n",
      "146  1147     19        58\n",
      "147  1148     17        55\n",
      "148  1149     18        52\n",
      "149  1150     20        36\n"
     ]
    }
   ],
   "source": [
    "import pandas as pd\n",
    "\n",
    "df = pd.read_csv('weight.csv')\n",
    "\n",
    "df.dropna(inplace = True)\n",
    "\n",
    "print(df.to_string())"
   ]
  },
  {
   "cell_type": "markdown",
   "id": "830aab93",
   "metadata": {},
   "source": [
    "Replace Empty Values"
   ]
  },
  {
   "cell_type": "code",
   "execution_count": 8,
   "id": "4b3b3311",
   "metadata": {},
   "outputs": [],
   "source": [
    "import pandas as pd\n",
    "\n",
    "df = pd.read_csv('weight.csv')\n",
    "\n",
    "df.fillna(130, inplace = True)"
   ]
  },
  {
   "cell_type": "markdown",
   "id": "e351c121",
   "metadata": {},
   "source": [
    "Pandas - Removing Duplicates"
   ]
  },
  {
   "cell_type": "code",
   "execution_count": 9,
   "id": "28153a62",
   "metadata": {},
   "outputs": [
    {
     "name": "stdout",
     "output_type": "stream",
     "text": [
      "0      False\n",
      "1      False\n",
      "2      False\n",
      "3      False\n",
      "4      False\n",
      "       ...  \n",
      "145    False\n",
      "146    False\n",
      "147    False\n",
      "148    False\n",
      "149    False\n",
      "Length: 150, dtype: bool\n"
     ]
    }
   ],
   "source": [
    "print(df.duplicated())"
   ]
  },
  {
   "cell_type": "code",
   "execution_count": 10,
   "id": "85765732",
   "metadata": {},
   "outputs": [],
   "source": [
    "df.drop_duplicates(inplace = True)"
   ]
  },
  {
   "cell_type": "markdown",
   "id": "a4052f03",
   "metadata": {},
   "source": [
    "# Correlations"
   ]
  },
  {
   "cell_type": "code",
   "execution_count": 11,
   "id": "fa277ca4",
   "metadata": {},
   "outputs": [
    {
     "data": {
      "text/html": [
       "<div>\n",
       "<style scoped>\n",
       "    .dataframe tbody tr th:only-of-type {\n",
       "        vertical-align: middle;\n",
       "    }\n",
       "\n",
       "    .dataframe tbody tr th {\n",
       "        vertical-align: top;\n",
       "    }\n",
       "\n",
       "    .dataframe thead th {\n",
       "        text-align: right;\n",
       "    }\n",
       "</style>\n",
       "<table border=\"1\" class=\"dataframe\">\n",
       "  <thead>\n",
       "    <tr style=\"text-align: right;\">\n",
       "      <th></th>\n",
       "      <th>S_ID</th>\n",
       "      <th>S_AGE</th>\n",
       "      <th>S_WEIGHT</th>\n",
       "    </tr>\n",
       "  </thead>\n",
       "  <tbody>\n",
       "    <tr>\n",
       "      <th>S_ID</th>\n",
       "      <td>1.000000</td>\n",
       "      <td>0.043759</td>\n",
       "      <td>-0.152108</td>\n",
       "    </tr>\n",
       "    <tr>\n",
       "      <th>S_AGE</th>\n",
       "      <td>0.043759</td>\n",
       "      <td>1.000000</td>\n",
       "      <td>-0.050636</td>\n",
       "    </tr>\n",
       "    <tr>\n",
       "      <th>S_WEIGHT</th>\n",
       "      <td>-0.152108</td>\n",
       "      <td>-0.050636</td>\n",
       "      <td>1.000000</td>\n",
       "    </tr>\n",
       "  </tbody>\n",
       "</table>\n",
       "</div>"
      ],
      "text/plain": [
       "              S_ID     S_AGE  S_WEIGHT\n",
       "S_ID      1.000000  0.043759 -0.152108\n",
       "S_AGE     0.043759  1.000000 -0.050636\n",
       "S_WEIGHT -0.152108 -0.050636  1.000000"
      ]
     },
     "execution_count": 11,
     "metadata": {},
     "output_type": "execute_result"
    }
   ],
   "source": [
    "df.corr()"
   ]
  },
  {
   "cell_type": "markdown",
   "id": "c8fed525",
   "metadata": {},
   "source": [
    "# Pandas Plotting"
   ]
  },
  {
   "cell_type": "code",
   "execution_count": 12,
   "id": "f2569ebf",
   "metadata": {},
   "outputs": [
    {
     "data": {
      "image/png": "[encoded data removed]",
      "text/plain": [
       "<Figure size 640x480 with 1 Axes>"
      ]
     },
     "metadata": {},
     "output_type": "display_data"
    }
   ],
   "source": [
    "import pandas as pd\n",
    "import matplotlib.pyplot as plt\n",
    "\n",
    "df = pd.read_csv('weight.csv')\n",
    "\n",
    "df.plot()\n",
    "\n",
    "plt.show()"
   ]
  },
  {
   "cell_type": "code",
   "execution_count": 13,
   "id": "7a5b4f05",
   "metadata": {},
   "outputs": [
    {
     "data": {
      "image/png": "[encoded data removed]",
      "text/plain": [
       "<Figure size 640x480 with 1 Axes>"
      ]
     },
     "metadata": {},
     "output_type": "display_data"
    }
   ],
   "source": [
    "import pandas as pd\n",
    "import matplotlib.pyplot as plt\n",
    "\n",
    "df = pd.read_csv('weight.csv')\n",
    "\n",
    "df.plot(kind = 'scatter', x = 'S_AGE', y = 'S_WEIGHT')\n",
    "\n",
    "plt.show()"
   ]
  },
  {
   "cell_type": "code",
   "execution_count": 15,
   "id": "f8ba5853",
   "metadata": {},
   "outputs": [
    {
     "data": {
      "text/plain": [
       "<Axes: ylabel='Frequency'>"
      ]
     },
     "execution_count": 15,
     "metadata": {},
     "output_type": "execute_result"
    },
    {
     "data": {
      "image/png": "[encoded data removed]",
      "text/plain": [
       "<Figure size 640x480 with 1 Axes>"
      ]
     },
     "metadata": {},
     "output_type": "display_data"
    }
   ],
   "source": [
    "df[\"S_WEIGHT\"].plot(kind = 'hist')"
   ]
  },
  {
   "cell_type": "code",
   "execution_count": null,
   "id": "7c93f9df",
   "metadata": {},
   "outputs": [],
   "source": []
  }
 ],
 "metadata": {
  "kernelspec": {
   "display_name": "Python 3 (ipykernel)",
   "language": "python",
   "name": "python3"
  },
  "language_info": {
   "codemirror_mode": {
    "name": "ipython",
    "version": 3
   },
   "file_extension": ".py",
   "mimetype": "text/x-python",
   "name": "python",
   "nbconvert_exporter": "python",
   "pygments_lexer": "ipython3",
   "version": "3.10.9"
  }
 },
 "nbformat": 4,
 "nbformat_minor": 5
}
