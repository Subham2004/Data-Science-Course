{
 "cells": [
  {
   "cell_type": "markdown",
   "id": "b10e7c32",
   "metadata": {},
   "source": [
    "# Pandas"
   ]
  },
  {
   "cell_type": "code",
   "execution_count": 3,
   "id": "5225acc0",
   "metadata": {},
   "outputs": [
    {
     "name": "stdout",
     "output_type": "stream",
     "text": [
      "     S_ID  S_AGE  S_WEIGHT\n",
      "0    1001     19        96\n",
      "1    1002     20        86\n",
      "2    1003     18        88\n",
      "3    1004     19        65\n",
      "4    1005     17        66\n",
      "5    1006     18        68\n",
      "6    1007     19        90\n",
      "7    1008     19        62\n",
      "8    1009     20        52\n",
      "9    1010     18        56\n",
      "10   1011     19        58\n",
      "11   1012     17        55\n",
      "12   1013     18        52\n",
      "13   1014     19        63\n",
      "14   1015     19        46\n",
      "15   1016     20        45\n",
      "16   1017     18        42\n",
      "17   1018     19        62\n",
      "18   1019     17        82\n",
      "19   1020     18        72\n",
      "20   1021     19        42\n",
      "21   1022     19        62\n",
      "22   1023     20        66\n",
      "23   1024     18        64\n",
      "24   1025     19        52\n",
      "25   1026     17        62\n",
      "26   1027     18        65\n",
      "27   1028     19        82\n",
      "28   1029     19        72\n",
      "29   1030     17        42\n",
      "30   1031     18        62\n",
      "31   1032     19        66\n",
      "32   1033     19        53\n",
      "33   1034     20        52\n",
      "34   1035     18        62\n",
      "35   1036     19        65\n",
      "36   1037     17        56\n",
      "37   1038     18        55\n",
      "38   1039     20        42\n",
      "39   1040     18        96\n",
      "40   1041     19        86\n",
      "41   1042     17        88\n",
      "42   1043     18        65\n",
      "43   1044     19        66\n",
      "44   1045     21        68\n",
      "45   1046     25        90\n",
      "46   1047     22        62\n",
      "47   1048     21        52\n",
      "48   1049     26        56\n",
      "49   1050     19        58\n",
      "50   1051     17        55\n",
      "51   1052     18        52\n",
      "52   1053     19        36\n",
      "53   1054     19        46\n",
      "54   1055     20        45\n",
      "55   1056     18        42\n",
      "56   1057     19        62\n",
      "57   1058     17        82\n",
      "58   1059     18        72\n",
      "59   1060     20        42\n",
      "60   1061     18        62\n",
      "61   1062     19        79\n",
      "62   1063     17        55\n",
      "63   1064     18        52\n",
      "64   1065     19        60\n",
      "65   1066     21        65\n",
      "66   1067     22        46\n",
      "67   1068     23        45\n",
      "68   1069     19        42\n",
      "69   1070     18        62\n",
      "70   1071     20        56\n",
      "71   1072     22        92\n",
      "72   1073     21        82\n",
      "73   1074     23        92\n",
      "74   1075     21        42\n",
      "75   1076     22        72\n",
      "76   1077     19        55\n",
      "77   1078     22        63\n",
      "78   1079     25        63\n",
      "79   1080     19        45\n",
      "80   1081     18        96\n",
      "81   1082     20        86\n",
      "82   1083     22        88\n",
      "83   1084     21        65\n",
      "84   1085     23        66\n",
      "85   1086     21        68\n",
      "86   1087     22        90\n",
      "87   1088     19        62\n",
      "88   1089     22        52\n",
      "89   1090     25        56\n",
      "90   1091     19        58\n",
      "91   1092     19        55\n",
      "92   1093     17        52\n",
      "93   1094     19        36\n",
      "94   1095     18        46\n",
      "95   1096     20        45\n",
      "96   1097     22        42\n",
      "97   1098     21        62\n",
      "98   1099     23        65\n",
      "99   1100     21        32\n",
      "100  1101     22        33\n",
      "101  1102     19        65\n",
      "102  1103     22        66\n",
      "103  1104     25        46\n",
      "104  1105     26        45\n",
      "105  1106     30        42\n",
      "106  1107     19        62\n",
      "107  1108     22        82\n",
      "108  1109     19        72\n",
      "109  1110     17        43\n",
      "110  1111     18        66\n",
      "111  1112     19        63\n",
      "112  1113     19        85\n",
      "113  1114     20        58\n",
      "114  1115     18        62\n",
      "115  1116     19        66\n",
      "116  1117     17        56\n",
      "117  1118     18        54\n",
      "118  1119     20        96\n",
      "119  1120     18        86\n",
      "120  1121     19        88\n",
      "121  1122     17        65\n",
      "122  1123     18        66\n",
      "123  1124     19        68\n",
      "124   118     18        90\n",
      "125  1126     19        62\n",
      "126  1127     17        52\n",
      "127  1128     18        56\n",
      "128  1129     19        58\n",
      "129  1130     14        55\n",
      "130  1131     16        52\n",
      "131  1132     12        63\n",
      "132  1133     19        46\n",
      "133  1134     18        45\n",
      "134  1135     19        42\n",
      "135  1136     17        62\n",
      "136  1137     18        96\n",
      "137  1138     19        86\n",
      "138  1139     18        88\n",
      "139  1140     19        65\n",
      "140  1141     17        66\n",
      "141  1142     18        68\n",
      "142  1143     19        90\n",
      "143  1144     19        62\n",
      "144  1145     20        52\n",
      "145  1146     18        56\n",
      "146  1147     19        58\n",
      "147  1148     17        55\n",
      "148  1149     18        52\n",
      "149  1150     20        36\n"
     ]
    }
   ],
   "source": [
    "import pandas as pd\n",
    "\n",
    "df = pd.read_csv('weight.csv')\n",
    "\n",
    "print(df.to_string())"
   ]
  },
  {
   "cell_type": "code",
   "execution_count": 4,
   "id": "210b58a5",
   "metadata": {},
   "outputs": [
    {
     "name": "stdout",
     "output_type": "stream",
     "text": [
      "    cars  passings\n",
      "0    BMW         3\n",
      "1  Volvo         7\n",
      "2   Ford         2\n"
     ]
    }
   ],
   "source": [
    "import pandas\n",
    "\n",
    "mydataset = {\n",
    "  'cars': [\"BMW\", \"Volvo\", \"Ford\"],\n",
    "  'passings': [3, 7, 2]\n",
    "}\n",
    "\n",
    "myvar = pandas.DataFrame(mydataset)\n",
    "\n",
    "print(myvar)"
   ]
  },
  {
   "cell_type": "code",
   "execution_count": 5,
   "id": "4d56a63e",
   "metadata": {},
   "outputs": [
    {
     "name": "stdout",
     "output_type": "stream",
     "text": [
      "    cars  passings\n",
      "0    BMW         3\n",
      "1  Volvo         7\n",
      "2   Ford         2\n"
     ]
    }
   ],
   "source": [
    "import pandas as pd\n",
    "\n",
    "mydataset = {\n",
    "  'cars': [\"BMW\", \"Volvo\", \"Ford\"],\n",
    "  'passings': [3, 7, 2]\n",
    "}\n",
    "\n",
    "myvar = pd.DataFrame(mydataset)\n",
    "\n",
    "print(myvar)"
   ]
  },
  {
   "cell_type": "markdown",
   "id": "4f97b741",
   "metadata": {},
   "source": [
    "Pandas Series"
   ]
  },
  {
   "cell_type": "code",
   "execution_count": 6,
   "id": "54fa3ecc",
   "metadata": {},
   "outputs": [
    {
     "name": "stdout",
     "output_type": "stream",
     "text": [
      "0    1\n",
      "1    7\n",
      "2    2\n",
      "dtype: int64\n"
     ]
    }
   ],
   "source": [
    "import pandas as pd\n",
    "\n",
    "a = [1, 7, 2]\n",
    "\n",
    "myvar = pd.Series(a)\n",
    "\n",
    "print(myvar)"
   ]
  },
  {
   "cell_type": "markdown",
   "id": "0be776bd",
   "metadata": {},
   "source": [
    "Labels"
   ]
  },
  {
   "cell_type": "code",
   "execution_count": 7,
   "id": "15343972",
   "metadata": {},
   "outputs": [
    {
     "name": "stdout",
     "output_type": "stream",
     "text": [
      "1\n"
     ]
    }
   ],
   "source": [
    "print(myvar[0])"
   ]
  },
  {
   "cell_type": "markdown",
   "id": "65f52ff8",
   "metadata": {},
   "source": [
    "Create Labels"
   ]
  },
  {
   "cell_type": "code",
   "execution_count": 8,
   "id": "478a3ea9",
   "metadata": {},
   "outputs": [
    {
     "name": "stdout",
     "output_type": "stream",
     "text": [
      "x    1\n",
      "y    7\n",
      "z    2\n",
      "dtype: int64\n",
      "7\n"
     ]
    }
   ],
   "source": [
    "import pandas as pd\n",
    "\n",
    "a = [1, 7, 2]\n",
    "\n",
    "myvar = pd.Series(a, index = [\"x\", \"y\", \"z\"])\n",
    "\n",
    "print(myvar)\n",
    "print(myvar[\"y\"])"
   ]
  },
  {
   "cell_type": "markdown",
   "id": "6df528fb",
   "metadata": {},
   "source": [
    "Key/Value Objects as Series"
   ]
  },
  {
   "cell_type": "code",
   "execution_count": 9,
   "id": "cee303b0",
   "metadata": {},
   "outputs": [
    {
     "name": "stdout",
     "output_type": "stream",
     "text": [
      "day1    420\n",
      "day2    380\n",
      "day3    390\n",
      "dtype: int64\n"
     ]
    }
   ],
   "source": [
    "import pandas as pd\n",
    "\n",
    "calories = {\"day1\": 420, \"day2\": 380, \"day3\": 390}\n",
    "\n",
    "myvar = pd.Series(calories)\n",
    "\n",
    "print(myvar)"
   ]
  },
  {
   "cell_type": "markdown",
   "id": "67bb585c",
   "metadata": {},
   "source": [
    "Create a Series using only data from \"day1\" and \"day2\":"
   ]
  },
  {
   "cell_type": "code",
   "execution_count": 10,
   "id": "683576d2",
   "metadata": {},
   "outputs": [
    {
     "name": "stdout",
     "output_type": "stream",
     "text": [
      "day1    420\n",
      "day2    380\n",
      "dtype: int64\n"
     ]
    }
   ],
   "source": [
    "import pandas as pd\n",
    "\n",
    "calories = {\"day1\": 420, \"day2\": 380, \"day3\": 390}\n",
    "\n",
    "myvar = pd.Series(calories, index = [\"day1\", \"day2\"])\n",
    "\n",
    "print(myvar)"
   ]
  },
  {
   "cell_type": "markdown",
   "id": "f9671f34",
   "metadata": {},
   "source": [
    "DataFrames"
   ]
  },
  {
   "cell_type": "code",
   "execution_count": 11,
   "id": "7edef826",
   "metadata": {},
   "outputs": [
    {
     "name": "stdout",
     "output_type": "stream",
     "text": [
      "   calories  duration\n",
      "0       420        50\n",
      "1       380        40\n",
      "2       390        45\n"
     ]
    }
   ],
   "source": [
    "import pandas as pd\n",
    "\n",
    "data = {\n",
    "  \"calories\": [420, 380, 390],\n",
    "  \"duration\": [50, 40, 45]\n",
    "}\n",
    "\n",
    "myvar = pd.DataFrame(data)\n",
    "\n",
    "print(myvar)"
   ]
  },
  {
   "cell_type": "markdown",
   "id": "6d6a5162",
   "metadata": {},
   "source": [
    "# Pandas DataFrames"
   ]
  },
  {
   "cell_type": "code",
   "execution_count": 12,
   "id": "8d5a4eb3",
   "metadata": {},
   "outputs": [
    {
     "name": "stdout",
     "output_type": "stream",
     "text": [
      "   calories  duration\n",
      "0       420        50\n",
      "1       380        40\n",
      "2       390        45\n"
     ]
    }
   ],
   "source": [
    "import pandas as pd\n",
    "\n",
    "data = {\n",
    "  \"calories\": [420, 380, 390],\n",
    "  \"duration\": [50, 40, 45]\n",
    "}\n",
    "\n",
    "#load data into a DataFrame object:\n",
    "df = pd.DataFrame(data)\n",
    "\n",
    "print(df) "
   ]
  },
  {
   "cell_type": "markdown",
   "id": "1c44ae99",
   "metadata": {},
   "source": [
    "Locate Row"
   ]
  },
  {
   "cell_type": "code",
   "execution_count": 13,
   "id": "84307736",
   "metadata": {},
   "outputs": [
    {
     "name": "stdout",
     "output_type": "stream",
     "text": [
      "calories    420\n",
      "duration     50\n",
      "Name: 0, dtype: int64\n"
     ]
    }
   ],
   "source": [
    "#refer to the row index:\n",
    "print(df.loc[0])"
   ]
  },
  {
   "cell_type": "code",
   "execution_count": 15,
   "id": "be617436",
   "metadata": {},
   "outputs": [
    {
     "name": "stdout",
     "output_type": "stream",
     "text": [
      "   calories  duration\n",
      "0       420        50\n",
      "1       380        40\n"
     ]
    }
   ],
   "source": [
    "#use a list of indexes:\n",
    "print(df.loc[[0, 1]])"
   ]
  },
  {
   "cell_type": "markdown",
   "id": "4abb0fb7",
   "metadata": {},
   "source": [
    "Named Indexes"
   ]
  },
  {
   "cell_type": "code",
   "execution_count": 16,
   "id": "36f1a514",
   "metadata": {},
   "outputs": [
    {
     "name": "stdout",
     "output_type": "stream",
     "text": [
      "      calories  duration\n",
      "day1       420        50\n",
      "day2       380        40\n",
      "day3       390        45\n"
     ]
    }
   ],
   "source": [
    "import pandas as pd\n",
    "\n",
    "data = {\n",
    "  \"calories\": [420, 380, 390],\n",
    "  \"duration\": [50, 40, 45]\n",
    "}\n",
    "\n",
    "df = pd.DataFrame(data, index = [\"day1\", \"day2\", \"day3\"])\n",
    "\n",
    "print(df) "
   ]
  },
  {
   "cell_type": "markdown",
   "id": "adb77055",
   "metadata": {},
   "source": [
    "Locate Named Indexes"
   ]
  },
  {
   "cell_type": "code",
   "execution_count": 17,
   "id": "9cad87eb",
   "metadata": {},
   "outputs": [
    {
     "name": "stdout",
     "output_type": "stream",
     "text": [
      "calories    380\n",
      "duration     40\n",
      "Name: day2, dtype: int64\n"
     ]
    }
   ],
   "source": [
    "#refer to the named index:\n",
    "print(df.loc[\"day2\"])"
   ]
  },
  {
   "cell_type": "markdown",
   "id": "7d7fc85b",
   "metadata": {},
   "source": [
    "Load Files Into a DataFrame"
   ]
  },
  {
   "cell_type": "code",
   "execution_count": 19,
   "id": "b4716373",
   "metadata": {},
   "outputs": [
    {
     "name": "stdout",
     "output_type": "stream",
     "text": [
      "     S_ID  S_AGE  S_WEIGHT\n",
      "0    1001     19        96\n",
      "1    1002     20        86\n",
      "2    1003     18        88\n",
      "3    1004     19        65\n",
      "4    1005     17        66\n",
      "..    ...    ...       ...\n",
      "145  1146     18        56\n",
      "146  1147     19        58\n",
      "147  1148     17        55\n",
      "148  1149     18        52\n",
      "149  1150     20        36\n",
      "\n",
      "[150 rows x 3 columns]\n"
     ]
    }
   ],
   "source": [
    "import pandas as pd\n",
    "\n",
    "df = pd.read_csv('weight.csv')\n",
    "\n",
    "print(df)"
   ]
  },
  {
   "cell_type": "markdown",
   "id": "7058e403",
   "metadata": {},
   "source": [
    "# Pandas Read CSV"
   ]
  },
  {
   "cell_type": "code",
   "execution_count": 20,
   "id": "f1a790f7",
   "metadata": {},
   "outputs": [
    {
     "name": "stdout",
     "output_type": "stream",
     "text": [
      "     S_ID  S_AGE  S_WEIGHT\n",
      "0    1001     19        96\n",
      "1    1002     20        86\n",
      "2    1003     18        88\n",
      "3    1004     19        65\n",
      "4    1005     17        66\n",
      "5    1006     18        68\n",
      "6    1007     19        90\n",
      "7    1008     19        62\n",
      "8    1009     20        52\n",
      "9    1010     18        56\n",
      "10   1011     19        58\n",
      "11   1012     17        55\n",
      "12   1013     18        52\n",
      "13   1014     19        63\n",
      "14   1015     19        46\n",
      "15   1016     20        45\n",
      "16   1017     18        42\n",
      "17   1018     19        62\n",
      "18   1019     17        82\n",
      "19   1020     18        72\n",
      "20   1021     19        42\n",
      "21   1022     19        62\n",
      "22   1023     20        66\n",
      "23   1024     18        64\n",
      "24   1025     19        52\n",
      "25   1026     17        62\n",
      "26   1027     18        65\n",
      "27   1028     19        82\n",
      "28   1029     19        72\n",
      "29   1030     17        42\n",
      "30   1031     18        62\n",
      "31   1032     19        66\n",
      "32   1033     19        53\n",
      "33   1034     20        52\n",
      "34   1035     18        62\n",
      "35   1036     19        65\n",
      "36   1037     17        56\n",
      "37   1038     18        55\n",
      "38   1039     20        42\n",
      "39   1040     18        96\n",
      "40   1041     19        86\n",
      "41   1042     17        88\n",
      "42   1043     18        65\n",
      "43   1044     19        66\n",
      "44   1045     21        68\n",
      "45   1046     25        90\n",
      "46   1047     22        62\n",
      "47   1048     21        52\n",
      "48   1049     26        56\n",
      "49   1050     19        58\n",
      "50   1051     17        55\n",
      "51   1052     18        52\n",
      "52   1053     19        36\n",
      "53   1054     19        46\n",
      "54   1055     20        45\n",
      "55   1056     18        42\n",
      "56   1057     19        62\n",
      "57   1058     17        82\n",
      "58   1059     18        72\n",
      "59   1060     20        42\n",
      "60   1061     18        62\n",
      "61   1062     19        79\n",
      "62   1063     17        55\n",
      "63   1064     18        52\n",
      "64   1065     19        60\n",
      "65   1066     21        65\n",
      "66   1067     22        46\n",
      "67   1068     23        45\n",
      "68   1069     19        42\n",
      "69   1070     18        62\n",
      "70   1071     20        56\n",
      "71   1072     22        92\n",
      "72   1073     21        82\n",
      "73   1074     23        92\n",
      "74   1075     21        42\n",
      "75   1076     22        72\n",
      "76   1077     19        55\n",
      "77   1078     22        63\n",
      "78   1079     25        63\n",
      "79   1080     19        45\n",
      "80   1081     18        96\n",
      "81   1082     20        86\n",
      "82   1083     22        88\n",
      "83   1084     21        65\n",
      "84   1085     23        66\n",
      "85   1086     21        68\n",
      "86   1087     22        90\n",
      "87   1088     19        62\n",
      "88   1089     22        52\n",
      "89   1090     25        56\n",
      "90   1091     19        58\n",
      "91   1092     19        55\n",
      "92   1093     17        52\n",
      "93   1094     19        36\n",
      "94   1095     18        46\n",
      "95   1096     20        45\n",
      "96   1097     22        42\n",
      "97   1098     21        62\n",
      "98   1099     23        65\n",
      "99   1100     21        32\n",
      "100  1101     22        33\n",
      "101  1102     19        65\n",
      "102  1103     22        66\n",
      "103  1104     25        46\n",
      "104  1105     26        45\n",
      "105  1106     30        42\n",
      "106  1107     19        62\n",
      "107  1108     22        82\n",
      "108  1109     19        72\n",
      "109  1110     17        43\n",
      "110  1111     18        66\n",
      "111  1112     19        63\n",
      "112  1113     19        85\n",
      "113  1114     20        58\n",
      "114  1115     18        62\n",
      "115  1116     19        66\n",
      "116  1117     17        56\n",
      "117  1118     18        54\n",
      "118  1119     20        96\n",
      "119  1120     18        86\n",
      "120  1121     19        88\n",
      "121  1122     17        65\n",
      "122  1123     18        66\n",
      "123  1124     19        68\n",
      "124   118     18        90\n",
      "125  1126     19        62\n",
      "126  1127     17        52\n",
      "127  1128     18        56\n",
      "128  1129     19        58\n",
      "129  1130     14        55\n",
      "130  1131     16        52\n",
      "131  1132     12        63\n",
      "132  1133     19        46\n",
      "133  1134     18        45\n",
      "134  1135     19        42\n",
      "135  1136     17        62\n",
      "136  1137     18        96\n",
      "137  1138     19        86\n",
      "138  1139     18        88\n",
      "139  1140     19        65\n",
      "140  1141     17        66\n",
      "141  1142     18        68\n",
      "142  1143     19        90\n",
      "143  1144     19        62\n",
      "144  1145     20        52\n",
      "145  1146     18        56\n",
      "146  1147     19        58\n",
      "147  1148     17        55\n",
      "148  1149     18        52\n",
      "149  1150     20        36\n"
     ]
    }
   ],
   "source": [
    "import pandas as pd\n",
    "\n",
    "df = pd.read_csv('weight.csv')\n",
    "\n",
    "print(df.to_string())"
   ]
  },
  {
   "cell_type": "code",
   "execution_count": 21,
   "id": "3654f150",
   "metadata": {},
   "outputs": [
    {
     "name": "stdout",
     "output_type": "stream",
     "text": [
      "     S_ID  S_AGE  S_WEIGHT\n",
      "0    1001     19        96\n",
      "1    1002     20        86\n",
      "2    1003     18        88\n",
      "3    1004     19        65\n",
      "4    1005     17        66\n",
      "..    ...    ...       ...\n",
      "145  1146     18        56\n",
      "146  1147     19        58\n",
      "147  1148     17        55\n",
      "148  1149     18        52\n",
      "149  1150     20        36\n",
      "\n",
      "[150 rows x 3 columns]\n"
     ]
    }
   ],
   "source": [
    "import pandas as pd\n",
    "\n",
    "df = pd.read_csv('weight.csv')\n",
    "\n",
    "print(df)"
   ]
  },
  {
   "cell_type": "markdown",
   "id": "7f24532e",
   "metadata": {},
   "source": [
    "max_rows"
   ]
  },
  {
   "cell_type": "code",
   "execution_count": 22,
   "id": "61a23486",
   "metadata": {},
   "outputs": [
    {
     "name": "stdout",
     "output_type": "stream",
     "text": [
      "60\n"
     ]
    }
   ],
   "source": [
    "import pandas as pd\n",
    "\n",
    "print(pd.options.display.max_rows)"
   ]
  },
  {
   "cell_type": "markdown",
   "id": "40da3a7f",
   "metadata": {},
   "source": [
    "# Pandas - Analyzing DataFrames"
   ]
  },
  {
   "cell_type": "code",
   "execution_count": 23,
   "id": "a902f188",
   "metadata": {},
   "outputs": [
    {
     "name": "stdout",
     "output_type": "stream",
     "text": [
      "     S_ID  S_AGE  S_WEIGHT\n",
      "0    1001     19        96\n",
      "1    1002     20        86\n",
      "2    1003     18        88\n",
      "3    1004     19        65\n",
      "4    1005     17        66\n",
      "5    1006     18        68\n",
      "6    1007     19        90\n",
      "7    1008     19        62\n",
      "8    1009     20        52\n",
      "9    1010     18        56\n",
      "10   1011     19        58\n",
      "11   1012     17        55\n",
      "12   1013     18        52\n",
      "13   1014     19        63\n",
      "14   1015     19        46\n",
      "15   1016     20        45\n",
      "16   1017     18        42\n",
      "17   1018     19        62\n",
      "18   1019     17        82\n",
      "19   1020     18        72\n",
      "20   1021     19        42\n",
      "21   1022     19        62\n",
      "22   1023     20        66\n",
      "23   1024     18        64\n",
      "24   1025     19        52\n",
      "25   1026     17        62\n",
      "26   1027     18        65\n",
      "27   1028     19        82\n",
      "28   1029     19        72\n",
      "29   1030     17        42\n",
      "30   1031     18        62\n",
      "31   1032     19        66\n",
      "32   1033     19        53\n",
      "33   1034     20        52\n",
      "34   1035     18        62\n",
      "35   1036     19        65\n",
      "36   1037     17        56\n",
      "37   1038     18        55\n",
      "38   1039     20        42\n",
      "39   1040     18        96\n",
      "40   1041     19        86\n",
      "41   1042     17        88\n",
      "42   1043     18        65\n",
      "43   1044     19        66\n",
      "44   1045     21        68\n",
      "45   1046     25        90\n",
      "46   1047     22        62\n",
      "47   1048     21        52\n",
      "48   1049     26        56\n",
      "49   1050     19        58\n",
      "50   1051     17        55\n",
      "51   1052     18        52\n",
      "52   1053     19        36\n",
      "53   1054     19        46\n",
      "54   1055     20        45\n",
      "55   1056     18        42\n",
      "56   1057     19        62\n",
      "57   1058     17        82\n",
      "58   1059     18        72\n",
      "59   1060     20        42\n",
      "60   1061     18        62\n",
      "61   1062     19        79\n",
      "62   1063     17        55\n",
      "63   1064     18        52\n",
      "64   1065     19        60\n",
      "65   1066     21        65\n",
      "66   1067     22        46\n",
      "67   1068     23        45\n",
      "68   1069     19        42\n",
      "69   1070     18        62\n",
      "70   1071     20        56\n",
      "71   1072     22        92\n",
      "72   1073     21        82\n",
      "73   1074     23        92\n",
      "74   1075     21        42\n",
      "75   1076     22        72\n",
      "76   1077     19        55\n",
      "77   1078     22        63\n",
      "78   1079     25        63\n",
      "79   1080     19        45\n",
      "80   1081     18        96\n",
      "81   1082     20        86\n",
      "82   1083     22        88\n",
      "83   1084     21        65\n",
      "84   1085     23        66\n",
      "85   1086     21        68\n",
      "86   1087     22        90\n",
      "87   1088     19        62\n",
      "88   1089     22        52\n",
      "89   1090     25        56\n",
      "90   1091     19        58\n",
      "91   1092     19        55\n",
      "92   1093     17        52\n",
      "93   1094     19        36\n",
      "94   1095     18        46\n",
      "95   1096     20        45\n",
      "96   1097     22        42\n",
      "97   1098     21        62\n",
      "98   1099     23        65\n",
      "99   1100     21        32\n",
      "100  1101     22        33\n",
      "101  1102     19        65\n",
      "102  1103     22        66\n",
      "103  1104     25        46\n",
      "104  1105     26        45\n",
      "105  1106     30        42\n",
      "106  1107     19        62\n",
      "107  1108     22        82\n",
      "108  1109     19        72\n",
      "109  1110     17        43\n",
      "110  1111     18        66\n",
      "111  1112     19        63\n",
      "112  1113     19        85\n",
      "113  1114     20        58\n",
      "114  1115     18        62\n",
      "115  1116     19        66\n",
      "116  1117     17        56\n",
      "117  1118     18        54\n",
      "118  1119     20        96\n",
      "119  1120     18        86\n",
      "120  1121     19        88\n",
      "121  1122     17        65\n",
      "122  1123     18        66\n",
      "123  1124     19        68\n",
      "124   118     18        90\n",
      "125  1126     19        62\n",
      "126  1127     17        52\n",
      "127  1128     18        56\n",
      "128  1129     19        58\n",
      "129  1130     14        55\n",
      "130  1131     16        52\n",
      "131  1132     12        63\n",
      "132  1133     19        46\n",
      "133  1134     18        45\n",
      "134  1135     19        42\n",
      "135  1136     17        62\n",
      "136  1137     18        96\n",
      "137  1138     19        86\n",
      "138  1139     18        88\n",
      "139  1140     19        65\n",
      "140  1141     17        66\n",
      "141  1142     18        68\n",
      "142  1143     19        90\n",
      "143  1144     19        62\n",
      "144  1145     20        52\n",
      "145  1146     18        56\n",
      "146  1147     19        58\n",
      "147  1148     17        55\n",
      "148  1149     18        52\n",
      "149  1150     20        36\n"
     ]
    }
   ],
   "source": [
    "import pandas as pd\n",
    "\n",
    "pd.options.display.max_rows = 9999\n",
    "\n",
    "df = pd.read_csv('weight.csv')\n",
    "\n",
    "print(df) "
   ]
  },
  {
   "cell_type": "code",
   "execution_count": 24,
   "id": "86afc4b9",
   "metadata": {},
   "outputs": [
    {
     "name": "stdout",
     "output_type": "stream",
     "text": [
      "   S_ID  S_AGE  S_WEIGHT\n",
      "0  1001     19        96\n",
      "1  1002     20        86\n",
      "2  1003     18        88\n",
      "3  1004     19        65\n",
      "4  1005     17        66\n",
      "5  1006     18        68\n",
      "6  1007     19        90\n",
      "7  1008     19        62\n",
      "8  1009     20        52\n",
      "9  1010     18        56\n"
     ]
    }
   ],
   "source": [
    "import pandas as pd\n",
    "\n",
    "df = pd.read_csv('weight.csv')\n",
    "\n",
    "print(df.head(10))"
   ]
  },
  {
   "cell_type": "code",
   "execution_count": 27,
   "id": "88e9ab0d",
   "metadata": {},
   "outputs": [
    {
     "name": "stdout",
     "output_type": "stream",
     "text": [
      "   S_ID  S_AGE  S_WEIGHT\n",
      "0  1001     19        96\n",
      "1  1002     20        86\n",
      "2  1003     18        88\n",
      "3  1004     19        65\n",
      "4  1005     17        66\n"
     ]
    }
   ],
   "source": [
    "import pandas as pd\n",
    "\n",
    "df = pd.read_csv('weight.csv')\n",
    "\n",
    "print(df.head())"
   ]
  },
  {
   "cell_type": "code",
   "execution_count": 28,
   "id": "c4a1ced3",
   "metadata": {},
   "outputs": [
    {
     "name": "stdout",
     "output_type": "stream",
     "text": [
      "     S_ID  S_AGE  S_WEIGHT\n",
      "145  1146     18        56\n",
      "146  1147     19        58\n",
      "147  1148     17        55\n",
      "148  1149     18        52\n",
      "149  1150     20        36\n"
     ]
    }
   ],
   "source": [
    "print(df.tail()) "
   ]
  },
  {
   "cell_type": "code",
   "execution_count": null,
   "id": "d44f8d0a",
   "metadata": {},
   "outputs": [],
   "source": []
  }
 ],
 "metadata": {
  "kernelspec": {
   "display_name": "Python 3 (ipykernel)",
   "language": "python",
   "name": "python3"
  },
  "language_info": {
   "codemirror_mode": {
    "name": "ipython",
    "version": 3
   },
   "file_extension": ".py",
   "mimetype": "text/x-python",
   "name": "python",
   "nbconvert_exporter": "python",
   "pygments_lexer": "ipython3",
   "version": "3.10.9"
  }
 },
 "nbformat": 4,
 "nbformat_minor": 5
}
